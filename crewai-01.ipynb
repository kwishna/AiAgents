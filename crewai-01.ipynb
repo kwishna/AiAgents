{
 "cells": [
  {
   "cell_type": "markdown",
   "id": "bad490db-8b95-436f-8024-b4ef87f382a1",
   "metadata": {},
   "source": [
    "## Create Agents to Research and Write an Article"
   ]
  },
  {
   "cell_type": "markdown",
   "id": "1e61dc3c-e8f5-4393-aaaa-5759feb8d1dd",
   "metadata": {},
   "source": [
    "##### !pip install crewai==0.28.8 crewai_tools==0.1.6 langchain_community==0.0.29"
   ]
  },
  {
   "cell_type": "code",
   "execution_count": 15,
   "id": "922144de-7f21-4287-9690-73bcff558de2",
   "metadata": {},
   "outputs": [],
   "source": [
    "# Warning control\n",
    "import warnings\n",
    "warnings.filterwarnings('ignore')"
   ]
  },
  {
   "cell_type": "code",
   "execution_count": 16,
   "id": "83a99eb0-4f7f-4c45-a975-cd9dee6d7111",
   "metadata": {},
   "outputs": [],
   "source": [
    "from crewai import Agent, Task, Crew"
   ]
  },
  {
   "cell_type": "code",
   "execution_count": 17,
   "id": "b5860c49-8c9a-45ee-88c5-702ca8eec7d5",
   "metadata": {},
   "outputs": [],
   "source": [
    "import os\n",
    "from util import get_openai_api_key, get_openai_model_name\n",
    "\n",
    "openai_api_key = get_openai_api_key()\n",
    "openai_model_name = get_openai_model_name()"
   ]
  },
  {
   "cell_type": "markdown",
   "id": "5ac49c11",
   "metadata": {},
   "source": [
    "## Creating Agents\n",
    "Define your Agents, and provide them a role, goal and backstory. It has been seen that LLMs perform better when they are role playing.\n",
    "\n"
   ]
  },
  {
   "cell_type": "code",
   "execution_count": 18,
   "id": "a52a492a",
   "metadata": {},
   "outputs": [],
   "source": [
    "planner = Agent(\n",
    "    role=\"Content Planner\",\n",
    "    goal=\"Plan engaging and factually accurate content on {topic}\",\n",
    "    backstory=\"You're working on planning a blog article about the topic: {topic}.\"\n",
    "              \"You collect information that helps the audience learn something and make informed decisions.\\n\"\n",
    "              \"Your work is the basis for the Content Writer to write an article on this topic.\",\n",
    "    allow_delegation=False,\n",
    "\tverbose=True\n",
    ")"
   ]
  },
  {
   "cell_type": "code",
   "execution_count": 19,
   "id": "b4a0c789",
   "metadata": {},
   "outputs": [],
   "source": [
    "writer = Agent(\n",
    "    role=\"Content Writer\",\n",
    "    goal=\"Write insightful and factually accurate opinion piece about the topic: {topic}\",\n",
    "    backstory=\"You're working on a writing \"\n",
    "              \"a new opinion piece about the topic: {topic}. \"\n",
    "              \"You base your writing on the work of the Content Planner, who provides an outline and relevant context about the topic. \"\n",
    "              \"You follow the main objectives and direction of the outline, as provide by the Content Planner. \"\n",
    "              \"You also provide objective and impartial insights and back them up with information provide by the Content Planner. \"\n",
    "              \"You acknowledge in your opinion piece when your statements are opinions as opposed to objective statements.\",\n",
    "    allow_delegation=False,\n",
    "    verbose=True\n",
    ")"
   ]
  },
  {
   "cell_type": "code",
   "execution_count": 20,
   "id": "2a175443",
   "metadata": {},
   "outputs": [],
   "source": [
    "editor = Agent(\n",
    "    role=\"Editor\",\n",
    "    goal=\"Edit a given blog post to align with \"\n",
    "         \"the writing style of the organization. \",\n",
    "    backstory=\"You are an editor who receives a blog post from the Content Writer. \"\n",
    "              \"Your goal is to review the blog post to ensure that it follows journalistic best practices,\"\n",
    "              \"provides balanced viewpoints when providing opinions or assertions, \"\n",
    "              \"and also avoids major controversial topics or opinions when possible.\",\n",
    "    allow_delegation=False,\n",
    "    verbose=True\n",
    ")"
   ]
  },
  {
   "cell_type": "markdown",
   "id": "85f2b0ba",
   "metadata": {},
   "source": [
    "## Creating Tasks\n",
    "Define your Tasks, and provide them a description, expected_output and agent.\n",
    "\n"
   ]
  },
  {
   "cell_type": "markdown",
   "id": "988bdad6",
   "metadata": {},
   "source": [
    "### Task: Plan"
   ]
  },
  {
   "cell_type": "code",
   "execution_count": 21,
   "id": "5d71372b",
   "metadata": {},
   "outputs": [],
   "source": [
    "plan = Task(\n",
    "    description=(\n",
    "        \"1. Prioritize the latest trends, key players, and noteworthy news on {topic}.\\n\"\n",
    "        \"2. Identify the target audience, considering their interests and pain points.\\n\"\n",
    "        \"3. Develop a detailed content outline including an introduction, key points, and a call to action.\\n\"\n",
    "        \"4. Include SEO keywords and relevant data or sources.\"\n",
    "    ),\n",
    "    expected_output=\"A comprehensive content plan document with an outline, audience analysis, SEO keywords, and resources.\",\n",
    "    agent=planner,\n",
    ")"
   ]
  },
  {
   "cell_type": "markdown",
   "id": "8b4479d3",
   "metadata": {},
   "source": [
    "### Task: Write"
   ]
  },
  {
   "cell_type": "code",
   "execution_count": 22,
   "id": "8b5f8b06",
   "metadata": {},
   "outputs": [],
   "source": [
    "write = Task(\n",
    "    description=(\n",
    "        \"1. Use the content plan to craft a compelling blog post on {topic}.\\n\"\n",
    "        \"2. Incorporate SEO keywords naturally.\\n\"\n",
    "\t\t\"3. Sections/Subtitles are properly named in an engaging manner.\\n\"\n",
    "        \"4. Ensure the post is structured with an engaging introduction, insightful body, and a summarizing conclusion.\\n\"\n",
    "        \"5. Proofread for grammatical errors and alignment with the brand's voice.\\n\"\n",
    "    ),\n",
    "    expected_output=\"A well-written blog post in markdown format, ready for publication, each section should have 2 or 3 paragraphs.\",\n",
    "    agent=writer,\n",
    ")"
   ]
  },
  {
   "cell_type": "markdown",
   "id": "50d13246",
   "metadata": {},
   "source": [
    "### Task: Edit"
   ]
  },
  {
   "cell_type": "code",
   "execution_count": 23,
   "id": "f978faba",
   "metadata": {},
   "outputs": [],
   "source": [
    "edit = Task(\n",
    "    description=\"Proofread the given blog post for grammatical errors and alignment with the brand's voice.\",\n",
    "    expected_output=\"A well-written blog post in markdown format, ready for publication, each section should have 2 or 3 paragraphs.\",\n",
    "    agent=editor\n",
    ")"
   ]
  },
  {
   "cell_type": "markdown",
   "id": "8cea3dd4",
   "metadata": {},
   "source": [
    "## Creating the Crew\n",
    "\n",
    "Create your crew of Agents\n",
    "Pass the tasks to be performed by those agents.\n",
    "\n",
    "Note: For this simple example, the tasks will be performed sequentially (i.e they are dependent on each other), so the order of the task in the list matters.\n",
    "verbose=True allows you to see all the logs of the execution.\n",
    "\n"
   ]
  },
  {
   "cell_type": "code",
   "execution_count": 27,
   "id": "8c96f974",
   "metadata": {},
   "outputs": [],
   "source": [
    "crew = Crew(\n",
    "    agents=[planner, writer, editor],\n",
    "    tasks=[plan, write, edit],\n",
    "    verbose=True\n",
    ")"
   ]
  },
  {
   "cell_type": "markdown",
   "id": "bc91152c",
   "metadata": {},
   "source": [
    "## Running the Crew"
   ]
  },
  {
   "cell_type": "code",
   "execution_count": 28,
   "id": "9161adfb",
   "metadata": {},
   "outputs": [
    {
     "name": "stdout",
     "output_type": "stream",
     "text": [
      "\u001b[1m\u001b[95m# Agent:\u001b[00m \u001b[1m\u001b[92mContent Planner\u001b[00m\n",
      "\u001b[95m## Task:\u001b[00m \u001b[92m1. Prioritize the latest trends, key players, and noteworthy news on Artificial Intelligence.\n",
      "2. Identify the target audience, considering their interests and pain points.\n",
      "3. Develop a detailed content outline including an introduction, key points, and a call to action.\n",
      "4. Include SEO keywords and relevant data or sources.\u001b[00m\n",
      "\n",
      "\n",
      "\u001b[1m\u001b[95m# Agent:\u001b[00m \u001b[1m\u001b[92mContent Planner\u001b[00m\n",
      "\u001b[95m## Final Answer:\u001b[00m \u001b[92m\n",
      "**Comprehensive Content Plan for Blog Article on Artificial Intelligence**\n",
      "\n",
      "**1. Latest Trends in Artificial Intelligence:**\n",
      "   - **Generative AI:** Emphasis on advancements in generative AI models like OpenAI's GPT series, their applications in content creation, programming, and simulations.\n",
      "   - **AI in Healthcare:** Innovations relating to AI in diagnosis, treatment planning, and personalized medicine.\n",
      "   - **Edge AI:** Growth of AI processing at the edge, reducing dependency on cloud computing.\n",
      "   - **Ethical AI and Regulations:** Increasing focus on developing ethical AI frameworks and emerging legislation guiding AI use.\n",
      "   - **AI-Powered Automation:** How AI is shaping industries by automating tasks, influencing jobs, and economic structures.\n",
      "\n",
      "**2. Key Players in Artificial Intelligence:**\n",
      "   - **Companies:** OpenAI, Google DeepMind, IBM Watson, Microsoft Azure AI, and NVIDIA.\n",
      "   - **Institutions:** MIT-IBM Watson AI Lab, Stanford AI Lab, and the Allen Institute for AI.\n",
      "   - **Noteworthy News:** Recent breakthroughs or announcements from these players, such as new AI models or partnerships.\n",
      "\n",
      "**3. Target Audience Analysis:**\n",
      "   - **Audience:** Tech enthusiasts, industry professionals, business leaders, policymakers, and educators.\n",
      "   - **Interests:** Understanding cutting-edge AI technologies, ethical implications, AI’s impact on industries, and future employment trends.\n",
      "   - **Pain Points:** Concerns about job displacement, privacy issues, AI biases, and the digital divide.\n",
      "\n",
      "**4. Content Outline:**\n",
      "\n",
      "   **I. Introduction**\n",
      "   - Define Artificial Intelligence and its significance in today's technology landscape.\n",
      "   - Briefly introduce current dynamics and why the audience should care.\n",
      "\n",
      "   **II. Exploring the Latest Trends in AI**\n",
      "   - **Generative AI:** What it is and its real-world applications.\n",
      "   - **AI in Healthcare:** Innovations and future possibilities.\n",
      "   - **Edge AI:** Benefits and implications for technology development.\n",
      "   - **Ethical AI:** Importance and emerging global policies.\n",
      "\n",
      "   **III. Key Players in the AI Space**\n",
      "   - Insight into the top companies and institutions leading AI innovation.\n",
      "   - Highlight recent breakthroughs and what they mean for the industry.\n",
      "\n",
      "   **IV. Impact of AI on Society and Industries**\n",
      "   - Case studies on AI-driven transformations in various sectors.\n",
      "   - Discuss how AI is reshaping jobs, influencing company strategies, and altering consumer experiences.\n",
      "\n",
      "   **V. Addressing Common Concerns in AI**\n",
      "   - Dialogue on potential job displacement and ways to address ethical concerns.\n",
      "   - AI's role in privacy challenges and regulatory measures being developed.\n",
      "\n",
      "   **VI. Conclusion and Call to Action**\n",
      "   - Summarize the transformative potential of AI and its dual role in opportunity and challenges.\n",
      "   - Encourage readers to engage with AI responsibly and stay informed about its evolution.\n",
      "\n",
      "**5. SEO Keywords:**\n",
      "   - Artificial Intelligence trends 2023\n",
      "   - Generative AI\n",
      "   - AI ethics and regulations\n",
      "   - AI healthcare innovations\n",
      "   - Edge computing AI\n",
      "\n",
      "**6. Data and Sources:**\n",
      "   - Research articles from reputable AI journals.\n",
      "   - Reports from Gartner and McKinsey on AI market analysis.\n",
      "   - Publications and official blogs from leading AI companies like OpenAI and Google.\n",
      "   - News articles from platforms like TechCrunch and Wired for recent updates.\n",
      "\n",
      "This comprehensive content plan provides a well-rounded approach to developing an engaging blog article on Artificial Intelligence that educates, informs, and prompts further thought among its readers.\u001b[00m\n",
      "\n",
      "\n",
      "\u001b[1m\u001b[95m# Agent:\u001b[00m \u001b[1m\u001b[92mContent Writer\u001b[00m\n",
      "\u001b[95m## Task:\u001b[00m \u001b[92m1. Use the content plan to craft a compelling blog post on Artificial Intelligence.\n",
      "2. Incorporate SEO keywords naturally.\n",
      "3. Sections/Subtitles are properly named in an engaging manner.\n",
      "4. Ensure the post is structured with an engaging introduction, insightful body, and a summarizing conclusion.\n",
      "5. Proofread for grammatical errors and alignment with the brand's voice.\n",
      "\u001b[00m\n",
      "\n",
      "\n",
      "\u001b[1m\u001b[95m# Agent:\u001b[00m \u001b[1m\u001b[92mContent Writer\u001b[00m\n",
      "\u001b[95m## Final Answer:\u001b[00m \u001b[92m\n",
      "```markdown\n",
      "# Navigating the Future: Trends and Implications of Artificial Intelligence\n",
      "\n",
      "## Introduction\n",
      "\n",
      "Artificial Intelligence (AI) has become a pivotal force in transforming the technological landscape of the 21st century. As we advance further into the digital age, AI's potential to revolutionize industries and everyday life remains unparalleled. In this blog, we delve into the current dynamics of AI, exploring the latest trends that are shaping its evolution and why they are significant to tech enthusiasts, industry professionals, and policymakers alike. \n",
      "\n",
      "Amidst the plethora of developments, understanding AI's innovative strides and ethical considerations allows us to harness its capabilities while addressing pertinent societal concerns. So, why should we care? AI is not just a scientific curiosity; it's the backbone of impending technological transformations that hold promise and challenges in equal measure.\n",
      "\n",
      "## Exploring the Latest Trends in AI\n",
      "\n",
      "One of the most fascinating areas of development is **Generative AI**. Known for its ability to produce creative content, Generative AI models, such as OpenAI's GPT series, are redefining boundaries in content creation, programming, and simulations. These models can generate human-like text, art, and even design new molecules for drug discovery, showcasing a versatile blend of creativity and utility in various fields.\n",
      "\n",
      "In the realm of healthcare, **AI innovations** are paving the way for breakthrough advancements. From diagnostics to treatment planning, AI is ushering in an era of personalized medicine. Innovations like AI algorithms that predict patient outcomes or assist radiologists are revolutionizing how we understand and treat health conditions, promising safer and more efficient healthcare ecosystems.\n",
      "\n",
      "The rise of **Edge AI** highlights the shift towards processing data locally at the device level, reducing the dependency on cloud computing. This evolution allows real-time data processing with increased privacy and reduced latency, ushering a new wave of tech development where connected devices operate more intelligently and autonomously.\n",
      "\n",
      "Furthermore, as AI becomes integral to the technological fabric, **Ethical AI** is gaining traction. Developing robust ethical frameworks and adopting emerging legislation to guide AI usage underline the importance of using these powerful tools responsibly. Ethical AI practices are essential to mitigate biases, ensure transparency, and protect privacy in an increasingly AI-driven world.\n",
      "\n",
      "## Key Players in the AI Space\n",
      "\n",
      "The arena of artificial intelligence is spearheaded by leading tech giants and research institutions like OpenAI, Google DeepMind, IBM Watson, Microsoft Azure AI, and NVIDIA. These companies are at the forefront of developing innovative AI solutions, propelling the industry towards new heights with each breakthrough.\n",
      "\n",
      "Institutions such as MIT-IBM Watson AI Lab, Stanford AI Lab, and the Allen Institute for AI also play a critical role in advancing AI research. Their collaborative efforts and initiatives pave the way for essential discoveries and technological innovations. Recently, significant announcements and partnerships from these players have showcased new AI models and applications that promise to further reshape the industry landscape.\n",
      "\n",
      "## Impact of AI on Society and Industries\n",
      "\n",
      "Artificial Intelligence is reshaping various sectors through comprehensive transformations. In industries such as manufacturing, AI-powered automation is optimizing production lines and enhancing quality control, demonstrating efficiency and cost-effectiveness. In retail, AI is reshaping consumer experiences through personalized shopping and inventory management.\n",
      "\n",
      "AI is also redefining jobs and influencing organizational strategies. While some fear the specter of job displacement, AI encourages the creation of new roles centered around AI maintenance and enhancement. Companies are adjusting strategies to leverage AI for competitive advantage, thus influencing economic structures and consumer dynamics.\n",
      "\n",
      "## Addressing Common Concerns in AI\n",
      "\n",
      "Despite its promising potential, AI poses several concerns, notably in job displacement and ethical use. It is crucial to develop strategies that integrate AI into the workforce, reskilling and upskilling employees to co-exist with AI technologies. Addressing these shared concerns can mitigate social risk while allowing AI to thrive responsibly.\n",
      "\n",
      "AI also poses challenges in terms of privacy. The vast amounts of data processed by AI technologies necessitate stringent regulatory measures to safeguard user information. Ensuring robust privacy frameworks guided by emerging regulations is essential in addressing the pervasive concerns surrounding AI data usage.\n",
      "\n",
      "## Conclusion and Call to Action\n",
      "\n",
      "AI's transformative potential presents a dual role, offering unparalleled opportunities alongside significant challenges. By embracing ethical practices and remaining informed about AI advancements, individuals and organizations can harness AI's benefits while mitigating its risks. As we continue to navigate the rapidly evolving AI landscape, it remains imperative that we engage responsibly, ensuring that this powerful technology serves the greater good.\n",
      "\n",
      "As we venture into the future, I encourage all stakeholders—whether tech enthusiasts, policymakers, or industry leaders—to engage actively with AI discussions, advocate for ethical practices, and remain aware of its exponential growth. Together, we can chart a responsible path forward, leveraging AI's incredible capabilities to build a better, more inclusive world.\n",
      "\n",
      "```\u001b[00m\n",
      "\n",
      "\n",
      "\u001b[1m\u001b[95m# Agent:\u001b[00m \u001b[1m\u001b[92mEditor\u001b[00m\n",
      "\u001b[95m## Task:\u001b[00m \u001b[92mProofread the given blog post for grammatical errors and alignment with the brand's voice.\u001b[00m\n",
      "\n",
      "\n",
      "\u001b[1m\u001b[95m# Agent:\u001b[00m \u001b[1m\u001b[92mEditor\u001b[00m\n",
      "\u001b[95m## Final Answer:\u001b[00m \u001b[92m\n",
      "```markdown\n",
      "# Navigating the Future: Trends and Implications of Artificial Intelligence\n",
      "\n",
      "## Introduction\n",
      "\n",
      "Artificial Intelligence (AI) has become a pivotal force in transforming the technological landscape of the 21st century. As we advance further into the digital age, AI's potential to revolutionize industries and everyday life remains unparalleled. In this blog, we delve into the current dynamics of AI, exploring the latest trends that are shaping its evolution and why they are significant to tech enthusiasts, industry professionals, and policymakers alike.\n",
      "\n",
      "Amidst the plethora of developments, understanding AI's innovative strides and ethical considerations allows us to harness its capabilities while addressing pertinent societal concerns. So, why should we care? AI is not just a scientific curiosity; it is the backbone of impending technological transformations that hold promise and challenges in equal measure.\n",
      "\n",
      "## Exploring the Latest Trends in AI\n",
      "\n",
      "One of the most fascinating areas of development is **Generative AI**. Known for its ability to produce creative content, Generative AI models, such as OpenAI's GPT series, are redefining boundaries in content creation, programming, and simulations. These models can generate human-like text, art, and even design new molecules for drug discovery, showcasing a versatile blend of creativity and utility in various fields.\n",
      "\n",
      "In the realm of healthcare, **AI innovations** are paving the way for breakthrough advancements. From diagnostics to treatment planning, AI is ushering in an era of personalized medicine. Innovations like AI algorithms that predict patient outcomes or assist radiologists are revolutionizing how we understand and treat health conditions, promising safer and more efficient healthcare ecosystems.\n",
      "\n",
      "The rise of **Edge AI** highlights the shift towards processing data locally at the device level, reducing dependency on cloud computing. This evolution allows real-time data processing with increased privacy and reduced latency, ushering in a new wave of tech development where connected devices operate more intelligently and autonomously.\n",
      "\n",
      "Furthermore, as AI becomes integral to the technological fabric, **Ethical AI** is gaining traction. Developing robust ethical frameworks and adopting emerging legislation to guide AI usage underline the importance of using these powerful tools responsibly. Ethical AI practices are essential to mitigate biases, ensure transparency, and protect privacy in an increasingly AI-driven world.\n",
      "\n",
      "## Key Players in the AI Space\n",
      "\n",
      "The arena of artificial intelligence is spearheaded by leading tech giants and research institutions like OpenAI, Google DeepMind, IBM Watson, Microsoft Azure AI, and NVIDIA. These companies are at the forefront of developing innovative AI solutions, propelling the industry towards new heights with each breakthrough.\n",
      "\n",
      "Institutions such as the MIT-IBM Watson AI Lab, Stanford AI Lab, and the Allen Institute for AI also play a critical role in advancing AI research. Their collaborative efforts and initiatives pave the way for essential discoveries and technological innovations. Recently, significant announcements and partnerships from these players have showcased new AI models and applications that promise to further reshape the industry landscape.\n",
      "\n",
      "## Impact of AI on Society and Industries\n",
      "\n",
      "Artificial Intelligence is reshaping various sectors through comprehensive transformations. In industries such as manufacturing, AI-powered automation is optimizing production lines and enhancing quality control, demonstrating efficiency and cost-effectiveness. In retail, AI is reshaping consumer experiences through personalized shopping and inventory management.\n",
      "\n",
      "AI is also redefining jobs and influencing organizational strategies. While some fear the specter of job displacement, AI encourages the creation of new roles centered around AI maintenance and enhancement. Companies are adjusting strategies to leverage AI for competitive advantage, thus influencing economic structures and consumer dynamics.\n",
      "\n",
      "## Addressing Common Concerns in AI\n",
      "\n",
      "Despite its promising potential, AI poses several concerns, notably in job displacement and ethical use. It is crucial to develop strategies that integrate AI into the workforce, reskilling and upskilling employees to coexist with AI technologies. Addressing these shared concerns can mitigate social risk while allowing AI to thrive responsibly.\n",
      "\n",
      "AI also poses challenges in terms of privacy. The vast amounts of data processed by AI technologies necessitate stringent regulatory measures to safeguard user information. Ensuring robust privacy frameworks guided by emerging regulations is essential in addressing the pervasive concerns surrounding AI data usage.\n",
      "\n",
      "## Conclusion and Call to Action\n",
      "\n",
      "AI's transformative potential presents a dual role, offering unparalleled opportunities alongside significant challenges. By embracing ethical practices and remaining informed about AI advancements, individuals and organizations can harness AI's benefits while mitigating its risks. As we continue to navigate the rapidly evolving AI landscape, it remains imperative that we engage responsibly, ensuring that this powerful technology serves the greater good.\n",
      "\n",
      "As we venture into the future, I encourage all stakeholders—whether tech enthusiasts, policymakers, or industry leaders—to engage actively with AI discussions, advocate for ethical practices, and remain aware of its exponential growth. Together, we can chart a responsible path forward, leveraging AI's incredible capabilities to build a better, more inclusive world.\n",
      "```\u001b[00m\n",
      "\n",
      "\n"
     ]
    }
   ],
   "source": [
    "result = crew.kickoff(inputs={\"topic\": \"Artificial Intelligence\"})"
   ]
  },
  {
   "cell_type": "code",
   "execution_count": 30,
   "id": "469b6628",
   "metadata": {},
   "outputs": [
    {
     "data": {
      "text/markdown": [
       "```markdown\n",
       "# Navigating the Future: Trends and Implications of Artificial Intelligence\n",
       "\n",
       "## Introduction\n",
       "\n",
       "Artificial Intelligence (AI) has become a pivotal force in transforming the technological landscape of the 21st century. As we advance further into the digital age, AI's potential to revolutionize industries and everyday life remains unparalleled. In this blog, we delve into the current dynamics of AI, exploring the latest trends that are shaping its evolution and why they are significant to tech enthusiasts, industry professionals, and policymakers alike.\n",
       "\n",
       "Amidst the plethora of developments, understanding AI's innovative strides and ethical considerations allows us to harness its capabilities while addressing pertinent societal concerns. So, why should we care? AI is not just a scientific curiosity; it is the backbone of impending technological transformations that hold promise and challenges in equal measure.\n",
       "\n",
       "## Exploring the Latest Trends in AI\n",
       "\n",
       "One of the most fascinating areas of development is **Generative AI**. Known for its ability to produce creative content, Generative AI models, such as OpenAI's GPT series, are redefining boundaries in content creation, programming, and simulations. These models can generate human-like text, art, and even design new molecules for drug discovery, showcasing a versatile blend of creativity and utility in various fields.\n",
       "\n",
       "In the realm of healthcare, **AI innovations** are paving the way for breakthrough advancements. From diagnostics to treatment planning, AI is ushering in an era of personalized medicine. Innovations like AI algorithms that predict patient outcomes or assist radiologists are revolutionizing how we understand and treat health conditions, promising safer and more efficient healthcare ecosystems.\n",
       "\n",
       "The rise of **Edge AI** highlights the shift towards processing data locally at the device level, reducing dependency on cloud computing. This evolution allows real-time data processing with increased privacy and reduced latency, ushering in a new wave of tech development where connected devices operate more intelligently and autonomously.\n",
       "\n",
       "Furthermore, as AI becomes integral to the technological fabric, **Ethical AI** is gaining traction. Developing robust ethical frameworks and adopting emerging legislation to guide AI usage underline the importance of using these powerful tools responsibly. Ethical AI practices are essential to mitigate biases, ensure transparency, and protect privacy in an increasingly AI-driven world.\n",
       "\n",
       "## Key Players in the AI Space\n",
       "\n",
       "The arena of artificial intelligence is spearheaded by leading tech giants and research institutions like OpenAI, Google DeepMind, IBM Watson, Microsoft Azure AI, and NVIDIA. These companies are at the forefront of developing innovative AI solutions, propelling the industry towards new heights with each breakthrough.\n",
       "\n",
       "Institutions such as the MIT-IBM Watson AI Lab, Stanford AI Lab, and the Allen Institute for AI also play a critical role in advancing AI research. Their collaborative efforts and initiatives pave the way for essential discoveries and technological innovations. Recently, significant announcements and partnerships from these players have showcased new AI models and applications that promise to further reshape the industry landscape.\n",
       "\n",
       "## Impact of AI on Society and Industries\n",
       "\n",
       "Artificial Intelligence is reshaping various sectors through comprehensive transformations. In industries such as manufacturing, AI-powered automation is optimizing production lines and enhancing quality control, demonstrating efficiency and cost-effectiveness. In retail, AI is reshaping consumer experiences through personalized shopping and inventory management.\n",
       "\n",
       "AI is also redefining jobs and influencing organizational strategies. While some fear the specter of job displacement, AI encourages the creation of new roles centered around AI maintenance and enhancement. Companies are adjusting strategies to leverage AI for competitive advantage, thus influencing economic structures and consumer dynamics.\n",
       "\n",
       "## Addressing Common Concerns in AI\n",
       "\n",
       "Despite its promising potential, AI poses several concerns, notably in job displacement and ethical use. It is crucial to develop strategies that integrate AI into the workforce, reskilling and upskilling employees to coexist with AI technologies. Addressing these shared concerns can mitigate social risk while allowing AI to thrive responsibly.\n",
       "\n",
       "AI also poses challenges in terms of privacy. The vast amounts of data processed by AI technologies necessitate stringent regulatory measures to safeguard user information. Ensuring robust privacy frameworks guided by emerging regulations is essential in addressing the pervasive concerns surrounding AI data usage.\n",
       "\n",
       "## Conclusion and Call to Action\n",
       "\n",
       "AI's transformative potential presents a dual role, offering unparalleled opportunities alongside significant challenges. By embracing ethical practices and remaining informed about AI advancements, individuals and organizations can harness AI's benefits while mitigating its risks. As we continue to navigate the rapidly evolving AI landscape, it remains imperative that we engage responsibly, ensuring that this powerful technology serves the greater good.\n",
       "\n",
       "As we venture into the future, I encourage all stakeholders—whether tech enthusiasts, policymakers, or industry leaders—to engage actively with AI discussions, advocate for ethical practices, and remain aware of its exponential growth. Together, we can chart a responsible path forward, leveraging AI's incredible capabilities to build a better, more inclusive world.\n",
       "```"
      ],
      "text/plain": [
       "<IPython.core.display.Markdown object>"
      ]
     },
     "execution_count": 30,
     "metadata": {},
     "output_type": "execute_result"
    }
   ],
   "source": [
    "from IPython.display import Markdown\n",
    "Markdown(result.raw)"
   ]
  },
  {
   "cell_type": "markdown",
   "id": "66f6d1fd",
   "metadata": {},
   "source": [
    "```# Other Popular Models as LLM for your Agents\n",
    "\n",
    "-----------------------------------------\n",
    "## Hugging Face (HuggingFaceHub endpoint)\n",
    "-----------------------------------------\n",
    "\n",
    "from langchain_community.llms import HuggingFaceHub\n",
    "\n",
    "llm = HuggingFaceHub(\n",
    "    repo_id=\"HuggingFaceH4/zephyr-7b-beta\",\n",
    "    huggingfacehub_api_token=\"<HF_TOKEN_HERE>\",\n",
    "    task=\"text-generation\",\n",
    ")\n",
    "\n",
    "### you will pass \"llm\" to your agent function\n",
    "\n",
    "--------------\n",
    "## Mistral API\n",
    "--------------\n",
    "\n",
    "OPENAI_API_KEY=your-mistral-api-key\n",
    "OPENAI_API_BASE=https://api.mistral.ai/v1\n",
    "OPENAI_MODEL_NAME=\"mistral-small\"\n",
    "\n",
    "----------\n",
    "## Cohere\n",
    "----------\n",
    "\n",
    "from langchain_community.chat_models import ChatCohere\n",
    "\n",
    "# Initialize language model\n",
    "os.environ[\"COHERE_API_KEY\"] = \"your-cohere-api-key\"\n",
    "\n",
    "llm = ChatCohere()\n",
    "\n",
    "### you will pass \"llm\" to your agent function\n",
    "```\n"
   ]
  },
  {
   "cell_type": "markdown",
   "id": "a38f1c0d",
   "metadata": {},
   "source": []
  }
 ],
 "metadata": {
  "kernelspec": {
   "display_name": "ai-agents",
   "language": "python",
   "name": "python3"
  },
  "language_info": {
   "codemirror_mode": {
    "name": "ipython",
    "version": 3
   },
   "file_extension": ".py",
   "mimetype": "text/x-python",
   "name": "python",
   "nbconvert_exporter": "python",
   "pygments_lexer": "ipython3",
   "version": "3.12.6"
  }
 },
 "nbformat": 4,
 "nbformat_minor": 5
}
