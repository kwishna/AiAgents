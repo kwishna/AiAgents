{
 "cells": [
  {
   "cell_type": "markdown",
   "id": "bad490db-8b95-436f-8024-b4ef87f382a1",
   "metadata": {},
   "source": [
    "## Create Agents to Research and Write an Article"
   ]
  },
  {
   "cell_type": "code",
   "execution_count": 2,
   "id": "1e61dc3c-e8f5-4393-aaaa-5759feb8d1dd",
   "metadata": {},
   "outputs": [],
   "source": [
    "### !pip install crewai==0.28.8 crewai_tools==0.1.6 langchain_community==0.0.29"
   ]
  },
  {
   "cell_type": "code",
   "execution_count": 2,
   "id": "922144de-7f21-4287-9690-73bcff558de2",
   "metadata": {},
   "outputs": [],
   "source": [
    "# Warning control\n",
    "import warnings\n",
    "warnings.filterwarnings('ignore')"
   ]
  },
  {
   "cell_type": "code",
   "execution_count": 3,
   "id": "83a99eb0-4f7f-4c45-a975-cd9dee6d7111",
   "metadata": {},
   "outputs": [],
   "source": [
    "from crewai import Agent, Task, Crew"
   ]
  },
  {
   "cell_type": "code",
   "execution_count": 1,
   "id": "b5860c49-8c9a-45ee-88c5-702ca8eec7d5",
   "metadata": {},
   "outputs": [],
   "source": [
    "import os\n",
    "from util import get_openai_api_key, get_openai_model_name\n",
    "\n",
    "openai_api_key = get_openai_api_key()\n",
    "openai_model_name = get_openai_model_name()"
   ]
  },
  {
   "cell_type": "code",
   "execution_count": null,
   "id": "5ac49c11",
   "metadata": {},
   "outputs": [],
   "source": []
  }
 ],
 "metadata": {
  "kernelspec": {
   "display_name": "ai-agents",
   "language": "python",
   "name": "python3"
  },
  "language_info": {
   "codemirror_mode": {
    "name": "ipython",
    "version": 3
   },
   "file_extension": ".py",
   "mimetype": "text/x-python",
   "name": "python",
   "nbconvert_exporter": "python",
   "pygments_lexer": "ipython3",
   "version": "3.12.6"
  }
 },
 "nbformat": 4,
 "nbformat_minor": 5
}
