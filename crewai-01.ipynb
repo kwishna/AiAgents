{
 "cells": [
  {
   "cell_type": "markdown",
   "id": "bad490db-8b95-436f-8024-b4ef87f382a1",
   "metadata": {},
   "source": [
    "## Create Agents to Research and Write an Article"
   ]
  },
  {
   "cell_type": "markdown",
   "id": "1e61dc3c-e8f5-4393-aaaa-5759feb8d1dd",
   "metadata": {},
   "source": [
    "##### !pip install crewai==0.28.8 crewai_tools==0.1.6 langchain_community==0.0.29"
   ]
  },
  {
   "cell_type": "code",
   "execution_count": 15,
   "id": "922144de-7f21-4287-9690-73bcff558de2",
   "metadata": {},
   "outputs": [],
   "source": [
    "# Warning control\n",
    "import warnings\n",
    "warnings.filterwarnings('ignore')"
   ]
  },
  {
   "cell_type": "code",
   "execution_count": 16,
   "id": "83a99eb0-4f7f-4c45-a975-cd9dee6d7111",
   "metadata": {},
   "outputs": [],
   "source": [
    "from crewai import Agent, Task, Crew"
   ]
  },
  {
   "cell_type": "code",
   "execution_count": 17,
   "id": "b5860c49-8c9a-45ee-88c5-702ca8eec7d5",
   "metadata": {},
   "outputs": [],
   "source": [
    "import os\n",
    "from util import get_openai_api_key, get_openai_model_name\n",
    "\n",
    "openai_api_key = get_openai_api_key()\n",
    "openai_model_name = get_openai_model_name()"
   ]
  },
  {
   "cell_type": "markdown",
   "id": "5ac49c11",
   "metadata": {},
   "source": [
    "## Creating Agents\n",
    "Define your Agents, and provide them a role, goal and backstory. It has been seen that LLMs perform better when they are role playing.\n",
    "\n"
   ]
  },
  {
   "cell_type": "code",
   "execution_count": 18,
   "id": "a52a492a",
   "metadata": {},
   "outputs": [],
   "source": [
    "planner = Agent(\n",
    "    role=\"Content Planner\",\n",
    "    goal=\"Plan engaging and factually accurate content on {topic}\",\n",
    "    backstory=\"You're working on planning a blog article about the topic: {topic}.\"\n",
    "              \"You collect information that helps the audience learn something and make informed decisions.\\n\"\n",
    "              \"Your work is the basis for the Content Writer to write an article on this topic.\",\n",
    "    allow_delegation=False,\n",
    "\tverbose=True\n",
    ")"
   ]
  },
  {
   "cell_type": "code",
   "execution_count": 19,
   "id": "b4a0c789",
   "metadata": {},
   "outputs": [],
   "source": [
    "writer = Agent(\n",
    "    role=\"Content Writer\",\n",
    "    goal=\"Write insightful and factually accurate opinion piece about the topic: {topic}\",\n",
    "    backstory=\"You're working on a writing \"\n",
    "              \"a new opinion piece about the topic: {topic}. \"\n",
    "              \"You base your writing on the work of the Content Planner, who provides an outline and relevant context about the topic. \"\n",
    "              \"You follow the main objectives and direction of the outline, as provide by the Content Planner. \"\n",
    "              \"You also provide objective and impartial insights and back them up with information provide by the Content Planner. \"\n",
    "              \"You acknowledge in your opinion piece when your statements are opinions as opposed to objective statements.\",\n",
    "    allow_delegation=False,\n",
    "    verbose=True\n",
    ")"
   ]
  },
  {
   "cell_type": "code",
   "execution_count": 20,
   "id": "2a175443",
   "metadata": {},
   "outputs": [],
   "source": [
    "editor = Agent(\n",
    "    role=\"Editor\",\n",
    "    goal=\"Edit a given blog post to align with \"\n",
    "         \"the writing style of the organization. \",\n",
    "    backstory=\"You are an editor who receives a blog post from the Content Writer. \"\n",
    "              \"Your goal is to review the blog post to ensure that it follows journalistic best practices,\"\n",
    "              \"provides balanced viewpoints when providing opinions or assertions, \"\n",
    "              \"and also avoids major controversial topics or opinions when possible.\",\n",
    "    allow_delegation=False,\n",
    "    verbose=True\n",
    ")"
   ]
  },
  {
   "cell_type": "markdown",
   "id": "85f2b0ba",
   "metadata": {},
   "source": [
    "## Creating Tasks\n",
    "Define your Tasks, and provide them a description, expected_output and agent.\n",
    "\n"
   ]
  },
  {
   "cell_type": "markdown",
   "id": "988bdad6",
   "metadata": {},
   "source": [
    "### Task: Plan"
   ]
  },
  {
   "cell_type": "code",
   "execution_count": 21,
   "id": "5d71372b",
   "metadata": {},
   "outputs": [],
   "source": [
    "plan = Task(\n",
    "    description=(\n",
    "        \"1. Prioritize the latest trends, key players, and noteworthy news on {topic}.\\n\"\n",
    "        \"2. Identify the target audience, considering their interests and pain points.\\n\"\n",
    "        \"3. Develop a detailed content outline including an introduction, key points, and a call to action.\\n\"\n",
    "        \"4. Include SEO keywords and relevant data or sources.\"\n",
    "    ),\n",
    "    expected_output=\"A comprehensive content plan document with an outline, audience analysis, SEO keywords, and resources.\",\n",
    "    agent=planner,\n",
    ")"
   ]
  },
  {
   "cell_type": "markdown",
   "id": "8b4479d3",
   "metadata": {},
   "source": [
    "### Task: Write"
   ]
  },
  {
   "cell_type": "code",
   "execution_count": 22,
   "id": "8b5f8b06",
   "metadata": {},
   "outputs": [],
   "source": [
    "write = Task(\n",
    "    description=(\n",
    "        \"1. Use the content plan to craft a compelling blog post on {topic}.\\n\"\n",
    "        \"2. Incorporate SEO keywords naturally.\\n\"\n",
    "\t\t\"3. Sections/Subtitles are properly named in an engaging manner.\\n\"\n",
    "        \"4. Ensure the post is structured with an engaging introduction, insightful body, and a summarizing conclusion.\\n\"\n",
    "        \"5. Proofread for grammatical errors and alignment with the brand's voice.\\n\"\n",
    "    ),\n",
    "    expected_output=\"A well-written blog post in markdown format, ready for publication, each section should have 2 or 3 paragraphs.\",\n",
    "    agent=writer,\n",
    ")"
   ]
  },
  {
   "cell_type": "markdown",
   "id": "50d13246",
   "metadata": {},
   "source": [
    "### Task: Edit"
   ]
  },
  {
   "cell_type": "code",
   "execution_count": 23,
   "id": "f978faba",
   "metadata": {},
   "outputs": [],
   "source": [
    "edit = Task(\n",
    "    description=\"Proofread the given blog post for grammatical errors and alignment with the brand's voice.\",\n",
    "    expected_output=\"A well-written blog post in markdown format, ready for publication, each section should have 2 or 3 paragraphs.\",\n",
    "    agent=editor\n",
    ")"
   ]
  },
  {
   "cell_type": "code",
   "execution_count": null,
   "id": "8cea3dd4",
   "metadata": {},
   "outputs": [],
   "source": []
  }
 ],
 "metadata": {
  "kernelspec": {
   "display_name": "ai-agents",
   "language": "python",
   "name": "python3"
  },
  "language_info": {
   "codemirror_mode": {
    "name": "ipython",
    "version": 3
   },
   "file_extension": ".py",
   "mimetype": "text/x-python",
   "name": "python",
   "nbconvert_exporter": "python",
   "pygments_lexer": "ipython3",
   "version": "3.12.6"
  }
 },
 "nbformat": 4,
 "nbformat_minor": 5
}
