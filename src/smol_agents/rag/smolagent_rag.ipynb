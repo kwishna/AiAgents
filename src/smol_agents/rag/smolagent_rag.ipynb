{
 "cells": [
  {
   "cell_type": "code",
   "execution_count": 2,
   "metadata": {},
   "outputs": [
    {
     "name": "stdout",
     "output_type": "stream",
     "text": [
      "Note: you may need to restart the kernel to use updated packages.\n",
      "Note: you may need to restart the kernel to use updated packages.\n",
      "Requirement already satisfied: langchain-community in /home/kali/Downloads/PythonProjects/AiAgents/.venv/lib/python3.12/site-packages (0.3.14)\n",
      "Requirement already satisfied: PyYAML>=5.3 in /home/kali/Downloads/PythonProjects/AiAgents/.venv/lib/python3.12/site-packages (from langchain-community) (6.0.2)\n",
      "Requirement already satisfied: SQLAlchemy<3,>=1.4 in /home/kali/Downloads/PythonProjects/AiAgents/.venv/lib/python3.12/site-packages (from langchain-community) (2.0.36)\n",
      "Requirement already satisfied: aiohttp<4.0.0,>=3.8.3 in /home/kali/Downloads/PythonProjects/AiAgents/.venv/lib/python3.12/site-packages (from langchain-community) (3.11.11)\n",
      "Requirement already satisfied: dataclasses-json<0.7,>=0.5.7 in /home/kali/Downloads/PythonProjects/AiAgents/.venv/lib/python3.12/site-packages (from langchain-community) (0.6.7)\n",
      "Requirement already satisfied: httpx-sse<0.5.0,>=0.4.0 in /home/kali/Downloads/PythonProjects/AiAgents/.venv/lib/python3.12/site-packages (from langchain-community) (0.4.0)\n",
      "Requirement already satisfied: langchain<0.4.0,>=0.3.14 in /home/kali/Downloads/PythonProjects/AiAgents/.venv/lib/python3.12/site-packages (from langchain-community) (0.3.14)\n",
      "Requirement already satisfied: langchain-core<0.4.0,>=0.3.29 in /home/kali/Downloads/PythonProjects/AiAgents/.venv/lib/python3.12/site-packages (from langchain-community) (0.3.30)\n",
      "Requirement already satisfied: langsmith<0.3,>=0.1.125 in /home/kali/Downloads/PythonProjects/AiAgents/.venv/lib/python3.12/site-packages (from langchain-community) (0.1.147)\n",
      "Requirement already satisfied: numpy<3,>=1.26.2 in /home/kali/Downloads/PythonProjects/AiAgents/.venv/lib/python3.12/site-packages (from langchain-community) (2.2.1)\n",
      "Requirement already satisfied: pydantic-settings<3.0.0,>=2.4.0 in /home/kali/Downloads/PythonProjects/AiAgents/.venv/lib/python3.12/site-packages (from langchain-community) (2.7.0)\n",
      "Requirement already satisfied: requests<3,>=2 in /home/kali/Downloads/PythonProjects/AiAgents/.venv/lib/python3.12/site-packages (from langchain-community) (2.32.3)\n",
      "Requirement already satisfied: tenacity!=8.4.0,<10,>=8.1.0 in /home/kali/Downloads/PythonProjects/AiAgents/.venv/lib/python3.12/site-packages (from langchain-community) (9.0.0)\n",
      "Requirement already satisfied: aiohappyeyeballs>=2.3.0 in /home/kali/Downloads/PythonProjects/AiAgents/.venv/lib/python3.12/site-packages (from aiohttp<4.0.0,>=3.8.3->langchain-community) (2.4.4)\n",
      "Requirement already satisfied: aiosignal>=1.1.2 in /home/kali/Downloads/PythonProjects/AiAgents/.venv/lib/python3.12/site-packages (from aiohttp<4.0.0,>=3.8.3->langchain-community) (1.3.2)\n",
      "Requirement already satisfied: attrs>=17.3.0 in /home/kali/Downloads/PythonProjects/AiAgents/.venv/lib/python3.12/site-packages (from aiohttp<4.0.0,>=3.8.3->langchain-community) (24.3.0)\n",
      "Requirement already satisfied: frozenlist>=1.1.1 in /home/kali/Downloads/PythonProjects/AiAgents/.venv/lib/python3.12/site-packages (from aiohttp<4.0.0,>=3.8.3->langchain-community) (1.5.0)\n",
      "Requirement already satisfied: multidict<7.0,>=4.5 in /home/kali/Downloads/PythonProjects/AiAgents/.venv/lib/python3.12/site-packages (from aiohttp<4.0.0,>=3.8.3->langchain-community) (6.1.0)\n",
      "Requirement already satisfied: propcache>=0.2.0 in /home/kali/Downloads/PythonProjects/AiAgents/.venv/lib/python3.12/site-packages (from aiohttp<4.0.0,>=3.8.3->langchain-community) (0.2.1)\n",
      "Requirement already satisfied: yarl<2.0,>=1.17.0 in /home/kali/Downloads/PythonProjects/AiAgents/.venv/lib/python3.12/site-packages (from aiohttp<4.0.0,>=3.8.3->langchain-community) (1.18.3)\n",
      "Requirement already satisfied: marshmallow<4.0.0,>=3.18.0 in /home/kali/Downloads/PythonProjects/AiAgents/.venv/lib/python3.12/site-packages (from dataclasses-json<0.7,>=0.5.7->langchain-community) (3.23.2)\n",
      "Requirement already satisfied: typing-inspect<1,>=0.4.0 in /home/kali/Downloads/PythonProjects/AiAgents/.venv/lib/python3.12/site-packages (from dataclasses-json<0.7,>=0.5.7->langchain-community) (0.9.0)\n",
      "Requirement already satisfied: langchain-text-splitters<0.4.0,>=0.3.3 in /home/kali/Downloads/PythonProjects/AiAgents/.venv/lib/python3.12/site-packages (from langchain<0.4.0,>=0.3.14->langchain-community) (0.3.4)\n",
      "Requirement already satisfied: pydantic<3.0.0,>=2.7.4 in /home/kali/Downloads/PythonProjects/AiAgents/.venv/lib/python3.12/site-packages (from langchain<0.4.0,>=0.3.14->langchain-community) (2.10.4)\n",
      "Requirement already satisfied: jsonpatch<2.0,>=1.33 in /home/kali/Downloads/PythonProjects/AiAgents/.venv/lib/python3.12/site-packages (from langchain-core<0.4.0,>=0.3.29->langchain-community) (1.33)\n",
      "Requirement already satisfied: packaging<25,>=23.2 in /home/kali/Downloads/PythonProjects/AiAgents/.venv/lib/python3.12/site-packages (from langchain-core<0.4.0,>=0.3.29->langchain-community) (24.2)\n",
      "Requirement already satisfied: typing-extensions>=4.7 in /home/kali/Downloads/PythonProjects/AiAgents/.venv/lib/python3.12/site-packages (from langchain-core<0.4.0,>=0.3.29->langchain-community) (4.12.2)\n",
      "Requirement already satisfied: httpx<1,>=0.23.0 in /home/kali/Downloads/PythonProjects/AiAgents/.venv/lib/python3.12/site-packages (from langsmith<0.3,>=0.1.125->langchain-community) (0.27.2)\n",
      "Requirement already satisfied: orjson<4.0.0,>=3.9.14 in /home/kali/Downloads/PythonProjects/AiAgents/.venv/lib/python3.12/site-packages (from langsmith<0.3,>=0.1.125->langchain-community) (3.10.12)\n",
      "Requirement already satisfied: requests-toolbelt<2.0.0,>=1.0.0 in /home/kali/Downloads/PythonProjects/AiAgents/.venv/lib/python3.12/site-packages (from langsmith<0.3,>=0.1.125->langchain-community) (1.0.0)\n",
      "Requirement already satisfied: python-dotenv>=0.21.0 in /home/kali/Downloads/PythonProjects/AiAgents/.venv/lib/python3.12/site-packages (from pydantic-settings<3.0.0,>=2.4.0->langchain-community) (1.0.1)\n",
      "Requirement already satisfied: charset-normalizer<4,>=2 in /home/kali/Downloads/PythonProjects/AiAgents/.venv/lib/python3.12/site-packages (from requests<3,>=2->langchain-community) (3.4.1)\n",
      "Requirement already satisfied: idna<4,>=2.5 in /home/kali/Downloads/PythonProjects/AiAgents/.venv/lib/python3.12/site-packages (from requests<3,>=2->langchain-community) (3.10)\n",
      "Requirement already satisfied: urllib3<3,>=1.21.1 in /home/kali/Downloads/PythonProjects/AiAgents/.venv/lib/python3.12/site-packages (from requests<3,>=2->langchain-community) (2.3.0)\n",
      "Requirement already satisfied: certifi>=2017.4.17 in /home/kali/Downloads/PythonProjects/AiAgents/.venv/lib/python3.12/site-packages (from requests<3,>=2->langchain-community) (2024.12.14)\n",
      "Requirement already satisfied: greenlet!=0.4.17 in /home/kali/Downloads/PythonProjects/AiAgents/.venv/lib/python3.12/site-packages (from SQLAlchemy<3,>=1.4->langchain-community) (3.1.1)\n",
      "Requirement already satisfied: anyio in /home/kali/Downloads/PythonProjects/AiAgents/.venv/lib/python3.12/site-packages (from httpx<1,>=0.23.0->langsmith<0.3,>=0.1.125->langchain-community) (4.7.0)\n",
      "Requirement already satisfied: httpcore==1.* in /home/kali/Downloads/PythonProjects/AiAgents/.venv/lib/python3.12/site-packages (from httpx<1,>=0.23.0->langsmith<0.3,>=0.1.125->langchain-community) (1.0.7)\n",
      "Requirement already satisfied: sniffio in /home/kali/Downloads/PythonProjects/AiAgents/.venv/lib/python3.12/site-packages (from httpx<1,>=0.23.0->langsmith<0.3,>=0.1.125->langchain-community) (1.3.1)\n",
      "Requirement already satisfied: h11<0.15,>=0.13 in /home/kali/Downloads/PythonProjects/AiAgents/.venv/lib/python3.12/site-packages (from httpcore==1.*->httpx<1,>=0.23.0->langsmith<0.3,>=0.1.125->langchain-community) (0.14.0)\n",
      "Requirement already satisfied: jsonpointer>=1.9 in /home/kali/Downloads/PythonProjects/AiAgents/.venv/lib/python3.12/site-packages (from jsonpatch<2.0,>=1.33->langchain-core<0.4.0,>=0.3.29->langchain-community) (3.0.0)\n",
      "Requirement already satisfied: annotated-types>=0.6.0 in /home/kali/Downloads/PythonProjects/AiAgents/.venv/lib/python3.12/site-packages (from pydantic<3.0.0,>=2.7.4->langchain<0.4.0,>=0.3.14->langchain-community) (0.7.0)\n",
      "Requirement already satisfied: pydantic-core==2.27.2 in /home/kali/Downloads/PythonProjects/AiAgents/.venv/lib/python3.12/site-packages (from pydantic<3.0.0,>=2.7.4->langchain<0.4.0,>=0.3.14->langchain-community) (2.27.2)\n",
      "Requirement already satisfied: mypy-extensions>=0.3.0 in /home/kali/Downloads/PythonProjects/AiAgents/.venv/lib/python3.12/site-packages (from typing-inspect<1,>=0.4.0->dataclasses-json<0.7,>=0.5.7->langchain-community) (1.0.0)\n"
     ]
    }
   ],
   "source": [
    "%pip install pypdf -q\n",
    "%pip install faiss-cpu -q\n",
    "! pip -q install smolagents\n",
    "! pip -q install litellm\n",
    "!pip install -U langchain-community"
   ]
  },
  {
   "cell_type": "code",
   "execution_count": 3,
   "metadata": {},
   "outputs": [],
   "source": [
    "from langchain.document_loaders import PyPDFLoader\n",
    "from langchain.vectorstores import FAISS\n",
    "# The other imports are likely correct and can remain as they are:\n",
    "from langchain_openai import OpenAIEmbeddings\n",
    "from langchain_openai.llms import OpenAI\n",
    "from langchain_openai.chat_models import ChatOpenAI\n",
    "from langchain_core.documents import Document\n",
    "from langchain_text_splitters import RecursiveCharacterTextSplitter\n",
    "import os"
   ]
  },
  {
   "cell_type": "code",
   "execution_count": 5,
   "metadata": {},
   "outputs": [],
   "source": [
    "loader = PyPDFLoader(\"Generalised_Learning_Path.pdf\")\n",
    "pages = loader.load()"
   ]
  },
  {
   "cell_type": "code",
   "execution_count": 6,
   "metadata": {},
   "outputs": [
    {
     "name": "stdout",
     "output_type": "stream",
     "text": [
      "\n",
      "Month1: PythonFundamentals+IntroductiontoML\n",
      "Week1:PythonFoundations&DataStructures\n",
      "○ LearnPython■ IntroductiontoPython■ CompleteTutorial: LearnDataSciencePythonfromScratch■ HowtoLearnPythonStep-by-Step■ IntroductiontoDataScience(FreeCourse)○ Control Flow■ Pythoncontrol flow■ MCQsonPythonControl Flow(If StatementsandLoops)■ LoopsandControl Statements(In-DepthTutorial)○ Functions■ Functionsinpython■ MCQsonPythonFunctions○ DataStructures■ DataStructuresinPython■ GuidetoDataStructuresinPython■ SetsinPython■ HowtoSort PythonDictionaries■ MCQsonPythonSetsandOperations■ TuplesinPython■ MCQsonPythonTupleManipulation○ Classes&Objects■ AdvancedPython■ EverythingAbout ClassesandObjectsinPython\n",
      "Week2:LibrariesinPython(Pandas, Numpy, Visualization)\n",
      "○ Pandas■ PandasTipsandTricks■ UltimateGuidetoPandasforDataScience\n",
      "■ PandasFunctionsforDataAnalysisandManipulation○ Scikit-Learn:OverviewandConcepts■ AComprehensiveGuidetoSklearn-Part 1: Overviewof thePackage■ Scikit-Learn: Objects-Fit vsTransformvsFit_TransformvsPredict■ Scikit-Learn: PythonMachineLearningTool○ Numpy■ UltimateNumpyTutorial forDataScienceBeginners■ NumpyTipsandTricksforBeginners■ Hands-OnwithNumpy○ Matplotlib&Seaborn(DataVisualization)■ Must-KnowDataVisualizationTechniques■ ExploratoryDataAnalysis(EDA)Guide■ Matplotlib■ BeginnerGuidetoMatplotlib■ IntroductiontoMatplotlibUsingPython■ QuickMatplotlibTipsforBeginners■ SeabornandSciPy■ ComprehensiveDataVisualizationGuide■ Beginner’sGuidetoSeaborn■ ScipyinPython\n",
      "Week3-4:CoreMachineLearningPart1\n",
      "● Outliers&DataPreprocessing○ DetectingandTreatingOutliers○ OutlierDetectioninPython(PyOD)○ Z-ScoreMethodforDealingwithOutliers● MachineLearningPipeline○ BuildYourFirst MLPipeline● EvaluationMetrics○ ConfusionMatrixinMachineLearning○ PrecisionandRecall inMachineLearning○ AUC-ROCCurveExplained● LinearModels\n",
      "○ YourFirst MachineLearningModel -LinearRegression○ UnderstandingCost FunctionandGradient Descent○ LassoandRidgeRegularization○ Support VectorMachines(SVM)■ Support VectorMachines(SVM): ACompleteGuideforBeginners■ One-ClassSVMforAnomalyDetection■ SVMKernels: In-DepthIntuitionandPractical Implementation\n",
      "Month2: MachineLearningIntermediateandIntroductiontoDeepLearning\n",
      "Week5:CoreMachineLearningPart2\n",
      "● Model SelectionandEvaluation○ SelectingtheRight Model: BiasVarianceTradeoff○ IntroductiontoOverfittingandUnderfitting○ UnderstandingKFoldCrossValidation○ HyperparameterTuning● AlgorithmsandTechniques○ Knn○ DecisionTree○ NaiveBayes○ Basicsof EnsembleTechniques● DimensionalityReductionandFeatureSelection○ IntroductiontoFeatureSelection○ AdvanceDimensionalityReduction● UnsupervisedLearning○ UnsupervisedMachineLearningMethods○ UnderstandingK-Means● MachineLearningInterpretability○ IntroductiontoMachineLearningInterpretability\n",
      "Week6:DeepLearningBasics\n",
      "● IntroductiontoDeepLearningConcepts○ IntroductiontoDeepLearning○ FeedForwardNetworks● CoreComponentsofDeepLearning○ Gradient Descent○ LossFunction○ ActivationFunctions○ Optimizers○ LearningRateSchedulers● FrameworksandTools○ IntroductiontoPyTorch\n",
      "Week7-8:NLPandTransformers\n",
      "● IntroductiontoNLPConcepts○ IntroductiontoNLP○ Text Pre-processing● NLPCourses○ BuildingaText ClassificationModel withNatural LanguageProcessing-FreeCourse○ ExploringNatural LanguageProcessing(NLP)usingDeepLearning● NLPLibraries○ SpaCyTutorial: LearnNatural LanguageProcessing○ TopicIdentificationwithGensimLibraryUsingPython● TopicModeling○ Beginner’sGuidetoTopicModelinginPython● TextRepresentation○ One-Hot EncodingvsLabel EncodingUsingScikit-Learn○ Step-by-StepGuidetoMasterNLPText VectorizationApproaches● WordVectors○ WordEmbeddings: Count vsWord2Vec○ PretrainedWordEmbeddingsinNLP\n",
      "● LanguageModeling○ ComprehensiveGuidetoLanguageModelsinNLP● SequenceModelsandRNNs○ WhySequenceModels?○ IntroductiontoRNN○ What isLongShort TermMemory(LSTM)○ What isGatedRecurrent Unit (GRU)?● Self-AttentionandTransformers○ UnderstandingTransformers: State-of-the-Art ModelsinNLP○ AnExplanatoryGuidetoBERTTokenizer○ Implementationof AttentionMechanismforCaptionGenerationonTransformersUsingTensorFlow● BERTandLargeLanguageModels○ DemystifyingBERT: GroundbreakingNLPFramework○ 6PretrainedModelsforText Classification\n",
      "Month3: Computer VisionandIntroductiontoGenerativeAI\n",
      "Week9-10:EverythinginComputerVision\n",
      "● ComputerVisionCourses○ BuildingYourFirst ComputerVisionModel\n",
      "● IntroductiontoComputerVision○ IntroductiontoComputerVision○ ImageProcessing○ InterestingApplicationsof OpenCV\n",
      "● UnderstandingCNNArchitectures○ UnderstandingCNNArchitecture○ AlexNet○ VGG16○ UnderstandingInceptionModules○ ResNets\n",
      "○ HowtoCodeYourResNet FromScratchinTensorFlow○ BuildingResNet-34Model UsingPyTorch\n",
      "● ObjectDetection○ IntroductiontoObject Detection○ RegionBasedConvolutional Neural Network○ Fast R-CNNandFasterR-CNN○ YOLO○ HowtoUseYOLOv5Object DetectionAlgorithmforCustomObject Detection○ HowtoTrainaCustomObject DetectionModel WithYOLOv7\n",
      "● ImageSegmentation○ ImageSegmentation○ IntroductiontoImageSegmentationpart 2\n",
      "● ImageGeneration\n",
      "○\n",
      "GenerativeAdversarial Networks(GANs): End-to-EndIntroduction○ RealisticFaceRestorationWithGFP-GANandDFDNet○ CreatingStylizedSketchesof FacesUsingJoJoGAN\n",
      "Week11-12:IntroductiontoGenerativeAI\n",
      "● IntroductiontoGenerativeAI○ IntroductiontoGenerativeAI○ No-codeGenerativeAI AppDevelopment○ Code-focusedGenerativeAI AppDevelopment○ IntroductiontoResponsibleAI\n",
      "● LargeLanguageModels(LLMs)○ What areLargeLanguageModels?○ FoundationModels\n",
      "● PopularLLMs○ GPTModels○ Mistral○ Llama○ Gemini\n",
      "● OpenSourceLLMs\n",
      "○ TopOpenSourceLLMs○ LargeLanguageModelsonHuggingFace\n",
      "● HallucinationinLLMs○ HallucinationsinLLMs\n",
      "● IndicLLMs○ LLMsBuilt inIndia\n",
      "● Gemini○ GoogleGemini API○ BuildingaConversational QAChatbot withGemini ProFreeAPI\n",
      "● Resources○ LLMBooks\n",
      "● Small LanguageModels(SLMs)○ Phi 3.5SLMs○ Smallest LLMsYouCanRunonLocal Devices○ What areSmall LanguageModels(SLMs)?\n",
      "IntroductiontoGenerativeAI andLLMs(COURSES)\n",
      "● GenerativeAI -AWayof Life-FreeCourse● GettingStartedwithLargeLanguageModels● ReimaginingGenAI: CommonMistakesandBest PracticesforSuccess\n",
      "Month4: Popular LLMsandPrompt Engineering\n",
      "Week13:Llama\n",
      "● Llama○ GettingStartedwithLlama2○ Document ParsingwithLlamaParse○ HowtoRunLlama3Locally○ Llama3.2Models\n",
      "○ GPT-4vsLlama3.1○ Llama3.1Storm8B○ Llama3vsLlama3.1○ Tool CallinginLlama3.1○ MetaLlama3.1○ WaystoUseLlama3\n",
      "Week14:EverythingaboutOpenAI andAnthropic\n",
      "● OpenAI○ O1PreviewvsO1Mini○ GPT-4OvsOpenAI O1○ HowtoAccessOpenAI O1○ OpenAI O1○ GPT-4OMini○ Claude3Sonnet vsChatGPT3.5\n",
      "● AnthropicandClaudeModels○ Anthropic’sContextual RAG○ AnthropicPrompt EngineeringCourse○ Claude3.5Sonnet○ AnthropicUnveilsTheirFastest AI Model: ClaudeHaiku\n",
      "Week15:HandsOnLLMs\n",
      "● Applications○ BuildaText SummarizerUsingLLMswithHuggingFace○ HowtoUseLlama3asCopilot inVSCodeforFree○ HowtoBuildDifferent LLMApplications?\n",
      "GenerativeAI Applications(COURSES)\n",
      "● CreatingProblem-SolvingAgentsUsingGenAI forActionComposition● GenAI AppliedtoQuantitativeFinance: ForControl Implementation● LearningAutonomousDrivingBehaviorswithLLMs&RL\n",
      "● MasteringMultilingual GenAI -OpenWeightsforIndicLanguages\n",
      "● InterviewQuestions○ LLMInterviewQuestions\n",
      "Week16:PromptEngineeringandIntroductiontoRAG\n",
      "● IntroductiontoPromptEngineering○ What isPrompt Engineering?○ What isPrompt EngineeringGuide?○ HowtoHarnesstheFull Potential of ChatGPT: Tips&Prompts○ OpenAI’sGuidetoPrompt Engineering\n",
      "● AdvancedPromptingTechniques○ 17PromptingTechniquestoSuperchargeYourLLMs○ Out-of-the-BoxChatGPTPrompts○ Powerof LLMs: Zero-Shot andFew-Shot Prompting○ One-Shot Prompting○ What isChainof Thought PromptingandItsBenefits?○ OpenAI’sGuidetoPromOpenAI’sGuidetoPrompt Engineeringpt Engineering\n",
      "● Thought-BasedPromptingStrategies○ Treeof Thoughts○ Skeletonof Thoughts○ Chainof EmotioninPrompt Engineering\n",
      "● PromptEngineeringforSpecificApplications○ HowtoGenerateImagesUsingStableDiffusion\n",
      "● ResourcesonPromptEngineering○ TopBest Prompt EngineeringBooks\n",
      "● LLMParametersandOptimization○ LLMParameters\n",
      "BuildingLLMApplications(COURSES)\n",
      "● BuildingLLMApplicationsusingPrompt Engineering-FreeCourse● FrameworktoChoosetheRight LLMforYourBusiness\n",
      "● CodingaChatGPT-StyleLanguageModel fromScratchinPyTorch\n",
      "Month5: RAGandFinetuning\n",
      "Week17:IntroductiontoRAG(Retrieval-AugmentedGeneration)\n",
      "● IntroductiontoRAG○ IntroductiontoRAGSystems○ Evaluationof RAGSystems○ Retrieval-AugmentedGeneration(RAG)inAI○ ABeginner'sGuidetoEvaluatingRAGPipelinesUsingRAGAS\n",
      "● RAGSystemsandTechniques○ GuidetoBuildingMultimodal RAGSystems○ EnhancingRAGwithHypothetical Document Embedding○ AdvancedRAGTechnique: LangChainReAct andCohere○ ImprovingReal-WorldRAGSystems\n",
      "Week18:RAGFrameworksandTools\n",
      "● LangChain○ IntroductiontoLangChain■ IntrototheLangChainEcosystem■ LangChainGuide○ CoreConceptsandComponents■ CoreComponentsof LangChain■ Applicationsof LCELChains○ AdvancedApplications■ Implement HuggingfaceModelsUsingLangChain■ RAGUsingLangChain■ LangGraph: RevolutionizingAI Agent\n",
      "■ LangSmith: UltimateGuide■ BuildingLLM-PoweredApplicationswithLangChain■ Multi-Modal RAGPipelinewithLangChain■ RAGandStreamlit Chatbot: Chat withDocumentsUsingLLM\n",
      "● LlamaIndex○ IntroductiontoLlamaIndex■ GettingStartedwithLlamaIndex○ CoreConceptsandApplications■ RAGPipelinewiththeLlamaIndex○ AdvancedApproaches■ Multi-Document AgenticRAGUsingLlamaIndex■ AdvancedApproachesforPowerful RAGSystems○ AgenticRAGSystems■ BuildingAgenticRAGSystemswithLangGraph■ Multi-Document AgenticRAGUsingLlamaIndex■ BuildingLLMAgent UsingAdvancedRAGTechniques\n",
      "Retrieval-AugmentedGeneration(RAG)(COURSES)\n",
      "● BuildingProduction-ReadyRAGSystemsUsingLlamaIndex● BuildingYourFirst RAGSystemUsingLlamaIndex-FreeCourse● ImprovingReal-WorldRAGSystems: KeyChallenges&Practical Solutions\n",
      "● Projects○ BuildaTravel Assistant Chatbot○ BuildYourOwnTranslatorwithLLMsandHuggingFace○ LangChainChatbot withMemory○ Multilingual Chatbot UsingLLMs○ ProjectsonLLM\n",
      "Week19-20:TrainingLLMfromScratchandFineTuningLLMs\n",
      "TrainingLLMsfromScratch\n",
      "○ Beginner'sGuidetoBuildLargeLanguageModelsfromScratch\n",
      "FinetuningLLMs\n",
      "● IntroductiontoFinetuning○ IntroductiontoFinetuningLLMs○ Fine-TuningLargeLanguageModels● Fine-TuningTechniques○ LORA: AComprehensiveGuidetoFine-TuningLLMs○ LLMFine-TuningwithPEFTTechniques○ LoRAandQLoRA● ToolsforFinetuning○ UsingUnslothforFine-TuningGoogleGemma○ UsingHuggingfaceforFine-Tuning● Fine-TuningLLaMA3○ Fine-TuneLLaMA3UsingDirect PreferenceOptimization○ Fine-TuningLLaMA3forSequenceClassification● CustomModel Fine-TuningandDeployment○ Fine-TuneandDeployCustomPaliGemmaModel● LLMEvaluation○ HowtoEvaluateaLargeLanguageModel (LLM)\n",
      "Month6: DiffusionModels- Multimodal LLMs\n",
      "Week21:GettingstartedwithDiffusionModel\n",
      "● IntroductiontoDiffusionModels○ What areDiffusionModels?○ IntroductiontoStableDiffusion\n",
      "● ImageGenerationwithStableDiffusion○ GeneratingImageUsingStableDiffusion\n",
      "○ Prompt EngineeringConceptsforStableDiffusion\n",
      "● OtherDiffusion-BasedTools○ MidJourney○ UnderstandingDALL·E3\n",
      "● DiffusionModels○ StableDiffusion3○ HowtoGenerateandEdit DALL·EImagesinCopilot\n",
      "● DiffusionModels:CoreComponentsandProcesses○ Different Componentsof DiffusionModels○ Positional EncodinginStableDiffusion○ NoiseSchedulesinStableDiffusion○ ReverseDiffusionProcess○ ForwardProcessinStableDiffusion\n",
      "StableDiffusionandImageGeneration(COURSES)\n",
      "● ExploringStability.AI● MidJourney: FromInspirationtoImplementation● NanoCourse: Dreambooth-StableDiffusionforCustomImages\n",
      "Week22-23:Multimodal LLMsandAgenticAI\n",
      "● Multimodal LLMs○ LLaMA3.290BvsGPT-4O○ Multimodal Chatbot withGPT-4O○ BuildinganImageDataExtractorUsingGemini VisionLLM○ Pixtral 12B\n",
      "● AgenticAI○ LangChain'sAgent Framework○ BuildAI AgentsfromScratch○ LLaMAAgents: AgentsasaService○ AgenticWorkflowwithCreWAI andGroq○ BuildanAI CodingAgent withLangGraphbyLangChain○ BuildingSmart AI AgentswithLangChain\n",
      "○ AI Agent Frameworks○ AgenticDesignPatterns○ AgenticFrameworksforGenerativeAI Applications○ BuildMulti-Agent System\n",
      "Week24:Projects\n",
      "● BuildaTravel Assistant Chatbot● Multilingual Chatbot UsingLLMs● LangChainChatbot withMemory● BuildYourOwnTranslatorwithLLMsandHuggingFace\n"
     ]
    }
   ],
   "source": [
    "for page in pages:\n",
    "    print(page.page_content)"
   ]
  },
  {
   "cell_type": "code",
   "execution_count": 7,
   "metadata": {},
   "outputs": [],
   "source": [
    "splitter = RecursiveCharacterTextSplitter(\n",
    "    chunk_size=1000,\n",
    "    chunk_overlap=200,\n",
    ")\n",
    "splitted_docs = splitter.split_documents(pages) # split_document accepts a list of documents"
   ]
  },
  {
   "cell_type": "code",
   "execution_count": 8,
   "metadata": {},
   "outputs": [
    {
     "name": "stdout",
     "output_type": "stream",
     "text": [
      "16\n",
      "page_content='Month1: PythonFundamentals+IntroductiontoML\n",
      "Week1:PythonFoundations&DataStructures\n",
      "○ LearnPython■ IntroductiontoPython■ CompleteTutorial: LearnDataSciencePythonfromScratch■ HowtoLearnPythonStep-by-Step■ IntroductiontoDataScience(FreeCourse)○ Control Flow■ Pythoncontrol flow■ MCQsonPythonControl Flow(If StatementsandLoops)■ LoopsandControl Statements(In-DepthTutorial)○ Functions■ Functionsinpython■ MCQsonPythonFunctions○ DataStructures■ DataStructuresinPython■ GuidetoDataStructuresinPython■ SetsinPython■ HowtoSort PythonDictionaries■ MCQsonPythonSetsandOperations■ TuplesinPython■ MCQsonPythonTupleManipulation○ Classes&Objects■ AdvancedPython■ EverythingAbout ClassesandObjectsinPython\n",
      "Week2:LibrariesinPython(Pandas, Numpy, Visualization)\n",
      "○ Pandas■ PandasTipsandTricks■ UltimateGuidetoPandasforDataScience' metadata={'source': 'Generalised_Learning_Path.pdf', 'page': 1}\n",
      "page_content='■ PandasFunctionsforDataAnalysisandManipulation○ Scikit-Learn:OverviewandConcepts■ AComprehensiveGuidetoSklearn-Part 1: Overviewof thePackage■ Scikit-Learn: Objects-Fit vsTransformvsFit_TransformvsPredict■ Scikit-Learn: PythonMachineLearningTool○ Numpy■ UltimateNumpyTutorial forDataScienceBeginners■ NumpyTipsandTricksforBeginners■ Hands-OnwithNumpy○ Matplotlib&Seaborn(DataVisualization)■ Must-KnowDataVisualizationTechniques■ ExploratoryDataAnalysis(EDA)Guide■ Matplotlib■ BeginnerGuidetoMatplotlib■ IntroductiontoMatplotlibUsingPython■ QuickMatplotlibTipsforBeginners■ SeabornandSciPy■ ComprehensiveDataVisualizationGuide■ Beginner’sGuidetoSeaborn■ ScipyinPython\n",
      "Week3-4:CoreMachineLearningPart1' metadata={'source': 'Generalised_Learning_Path.pdf', 'page': 2}\n",
      "page_content='Week3-4:CoreMachineLearningPart1\n",
      "● Outliers&DataPreprocessing○ DetectingandTreatingOutliers○ OutlierDetectioninPython(PyOD)○ Z-ScoreMethodforDealingwithOutliers● MachineLearningPipeline○ BuildYourFirst MLPipeline● EvaluationMetrics○ ConfusionMatrixinMachineLearning○ PrecisionandRecall inMachineLearning○ AUC-ROCCurveExplained● LinearModels' metadata={'source': 'Generalised_Learning_Path.pdf', 'page': 2}\n"
     ]
    }
   ],
   "source": [
    "print(len(splitted_docs))\n",
    "print(splitted_docs[0])\n",
    "print(splitted_docs[1])\n",
    "print(splitted_docs[2])"
   ]
  },
  {
   "cell_type": "code",
   "execution_count": 10,
   "metadata": {},
   "outputs": [
    {
     "name": "stdout",
     "output_type": "stream",
     "text": [
      "Embeddings shape: (16, 1536)\n"
     ]
    }
   ],
   "source": [
    "# Set the API key for OpenAIEmbeddings\n",
    "embed_model = OpenAIEmbeddings(openai_api_key=os.environ['OPENAI_API_KEY'])\n",
    "# Generate embeddings for the documents\n",
    "embeddings = embed_model.embed_documents([chunk.page_content for chunk in splitted_docs])\n",
    "print(f\"Embeddings shape: {len(embeddings), len(embeddings[0])}\")"
   ]
  },
  {
   "cell_type": "code",
   "execution_count": 11,
   "metadata": {},
   "outputs": [],
   "source": [
    "vector_db = FAISS.from_documents(\n",
    "    documents = splitted_docs,\n",
    "    embedding = embed_model\n",
    ")"
   ]
  },
  {
   "cell_type": "code",
   "execution_count": 12,
   "metadata": {},
   "outputs": [
    {
     "name": "stdout",
     "output_type": "stream",
     "text": [
      "○ Prompt EngineeringConceptsforStableDiffusion\n",
      "● OtherDiffusion-BasedTools○ MidJourney○ UnderstandingDALL·E3\n",
      "● DiffusionModels○ StableDiffusion3○ HowtoGenerateandEdit DALL·EImagesinCopilot\n",
      "● DiffusionModels:CoreComponentsandProcesses○ Different Componentsof DiffusionModels○ Positional EncodinginStableDiffusion○ NoiseSchedulesinStableDiffusion○ ReverseDiffusionProcess○ ForwardProcessinStableDiffusion\n",
      "StableDiffusionandImageGeneration(COURSES)\n",
      "● ExploringStability.AI● MidJourney: FromInspirationtoImplementation● NanoCourse: Dreambooth-StableDiffusionforCustomImages\n",
      "Week22-23:Multimodal LLMsandAgenticAI\n",
      "● Multimodal LLMs○ LLaMA3.290BvsGPT-4O○ Multimodal Chatbot withGPT-4O○ BuildinganImageDataExtractorUsingGemini VisionLLM○ Pixtral 12B\n",
      "● AgenticAI○ LangChain'sAgent Framework○ BuildAI AgentsfromScratch○ LLaMAAgents: AgentsasaService○ AgenticWorkflowwithCreWAI andGroq○ BuildanAI CodingAgent withLangGraphbyLangChain○ BuildingSmart AI AgentswithLangChain\n"
     ]
    }
   ],
   "source": [
    "similar_docs = vector_db.similarity_search(\"what is the objective for data sharing with donors?\", k=5)\n",
    "print(similar_docs[0].page_content)"
   ]
  },
  {
   "cell_type": "code",
   "execution_count": 16,
   "metadata": {},
   "outputs": [
    {
     "name": "stderr",
     "output_type": "stream",
     "text": [
      "/home/kali/Downloads/PythonProjects/AiAgents/.venv/lib/python3.12/site-packages/tqdm/auto.py:21: TqdmWarning: IProgress not found. Please update jupyter and ipywidgets. See https://ipywidgets.readthedocs.io/en/stable/user_install.html\n",
      "  from .autonotebook import tqdm as notebook_tqdm\n"
     ]
    }
   ],
   "source": [
    "from smolagents import Tool\n",
    "class RetrieverTool(Tool):\n",
    "    name = \"retriever\"\n",
    "    description = \"Uses semantic search to retrieve the parts of the documentation that could be most relevant to answer your query.\"\n",
    "    inputs = {\n",
    "        \"query\": {\n",
    "            \"type\": \"string\",\n",
    "            \"description\": \"The query to perform. This should be semantically close to your target documents. Use the affirmative form rather than a question.\",\n",
    "            }\n",
    "        }\n",
    "    output_type = \"string\"\n",
    "    \n",
    "    def __init__(self, vector_db, **kwargs): # Add vector_db as an argument\n",
    "        super().__init__(**kwargs)\n",
    "        self.vector_db = vector_db # Store the vector database\n",
    "\n",
    "    def forward(self, query: str) -> str:\n",
    "        assert isinstance(query, str), \"Your search query must be a string\"\n",
    "        docs = self.vector_db.similarity_search(query, k=4) # Perform search here\n",
    "        return \"\\nRetrieved documents:\\n\" + \"\".join(\n",
    "            [f\"\\n\\n===== Document {str(i)} =====\\n\" + doc.page_content for i, doc in enumerate(docs)]\n",
    "            )"
   ]
  },
  {
   "cell_type": "code",
   "execution_count": 17,
   "metadata": {},
   "outputs": [],
   "source": [
    "\n",
    "retriever_tool = RetrieverTool(vector_db=vector_db) # Pass vector_db during instantiation"
   ]
  },
  {
   "cell_type": "code",
   "execution_count": null,
   "metadata": {},
   "outputs": [],
   "source": [
    "from smolagents import LiteLLMModel, DuckDuckGoSearchTool\n",
    "model = LiteLLMModel(model_id=\"gpt-4o\", api_key = \"your_api_key\")\n",
    "search_tool = DuckDuckGoSearchTool()"
   ]
  },
  {
   "cell_type": "code",
   "execution_count": null,
   "metadata": {},
   "outputs": [],
   "source": [
    "from smolagents import HfApiModel, CodeAgent\n",
    "agent = CodeAgent(\n",
    "    tools=[retriever_tool,search_tool], model=model, max_steps=6, verbose=True\n",
    ")"
   ]
  },
  {
   "cell_type": "code",
   "execution_count": null,
   "metadata": {},
   "outputs": [],
   "source": [
    "agent.run(\"Tell me about Analytics Vidhya\")"
   ]
  },
  {
   "cell_type": "code",
   "execution_count": null,
   "metadata": {},
   "outputs": [],
   "source": [
    "agent_output = agent.run(\"what are the constraints for data sharing with donors?\")\n",
    "print(\"Final output:\")\n",
    "print(agent_output)"
   ]
  },
  {
   "cell_type": "code",
   "execution_count": null,
   "metadata": {},
   "outputs": [],
   "source": [
    "agent_output1 = agent.run(\"WHAT ARE THE OBJECTIVES FOR DATA SHARING WITH DONORS?\")"
   ]
  }
 ],
 "metadata": {
  "kernelspec": {
   "display_name": ".venv",
   "language": "python",
   "name": "python3"
  },
  "language_info": {
   "codemirror_mode": {
    "name": "ipython",
    "version": 3
   },
   "file_extension": ".py",
   "mimetype": "text/x-python",
   "name": "python",
   "nbconvert_exporter": "python",
   "pygments_lexer": "ipython3",
   "version": "3.12.7"
  }
 },
 "nbformat": 4,
 "nbformat_minor": 2
}
