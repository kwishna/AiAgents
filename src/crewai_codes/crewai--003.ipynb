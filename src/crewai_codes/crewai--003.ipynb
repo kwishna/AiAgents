{
 "cells": [
  {
   "cell_type": "code",
   "execution_count": null,
   "metadata": {},
   "outputs": [],
   "source": [
    "!pip3 install crewai\n",
    "!pip3 install langchain\n",
    "!pip3 install streamlit\n",
    "!pip3 install unstructured\n",
    "!pip3 install sentence_transformers"
   ]
  },
  {
   "cell_type": "code",
   "execution_count": null,
   "metadata": {},
   "outputs": [],
   "source": [
    "from crewai import Crew, Agent, Task\n",
    "from langchain.llms import Ollama\n",
    "from langchain.vectorstores import Chroma\n",
    "from langchain_community.embeddings import SentenceTransformerEmbeddings  # Use the wrapper\n",
    "from sentence_transformers import SentenceTransformer\n",
    "from langchain.document_loaders import UnstructuredURLLoader\n",
    "from langchain.text_splitter import RecursiveCharacterTextSplitter\n",
    "from langchain.agents import Tool"
   ]
  },
  {
   "cell_type": "code",
   "execution_count": null,
   "metadata": {},
   "outputs": [],
   "source": [
    "# Website Data Ingestion \n",
    "loader = UnstructuredURLLoader(urls=[\"https://docs.crewai.com/how-to/Installing-CrewAI/\"])\n",
    "data = loader.load()\n",
    "text_splitter = RecursiveCharacterTextSplitter(chunk_size=1000, chunk_overlap=200)\n",
    "texts = text_splitter.split_documents(data)"
   ]
  },
  {
   "cell_type": "code",
   "execution_count": null,
   "metadata": {},
   "outputs": [],
   "source": [
    "# Initialize Embeddings\n",
    "model_name = \"all-MiniLM-L6-v2\"\n",
    "embeddings = SentenceTransformerEmbeddings(model_name=model_name) \n",
    "\n",
    "# Create and Persist Vector Database\n",
    "db = Chroma.from_documents(texts, embeddings, persist_directory=\"./chroma_db\")\n",
    "db.persist()\n",
    "\n",
    "# Define Retriever from Vector Store\n",
    "retriever = db.as_retriever()"
   ]
  },
  {
   "cell_type": "code",
   "execution_count": null,
   "metadata": {},
   "outputs": [],
   "source": [
    "ollama_wrapper = Ollama(model_name='llama3.2')\n",
    "\n",
    "##Ollama LLM\n",
    "# from langchain_ollama.llms import OllamaLLM\n",
    "# ollama_llm = OllamaLLM(model='mistral:7b')"
   ]
  },
  {
   "cell_type": "code",
   "execution_count": null,
   "metadata": {},
   "outputs": [],
   "source": [
    "researcher = Agent(\n",
    "    ai=ollama_wrapper,\n",
    "    name=\"Researcher\",\n",
    "    role=\"Researches topics by searching the website data.\",\n",
    "    tools=[\n",
    "        Tool(\n",
    "            name=\"Website_Search\",\n",
    "            func=retriever.get_relevant_documents,\n",
    "            description=\"useful for when you need to ask with lookup on website data.\"\n",
    "        )\n",
    "    ],\n",
    "    goal=\"Answer questions by retrieving relevant information from the website's data.\",  # Add the goal here\n",
    "    backstory=\"You are a helpful AI assistant specializing in searching and retrieving information from a website. Use your 'Website_Search' tool to find relevant documents when answering questions.\"\n",
    ")  \n",
    "\n",
    "researcher_boss = Agent(\n",
    "    ai=ollama_wrapper,\n",
    "    name=\"Researcher Boss\",\n",
    "    role=\"Challenges the researcher to bring out the best out of his findings\",\n",
    "    tools=[\n",
    "        Tool(\n",
    "            name=\"Website_Search\",\n",
    "            func=retriever.get_relevant_documents,\n",
    "            description=\"useful for validating the findings of the researcher\"\n",
    "        )\n",
    "    ],\n",
    "    goal=\"Ask further questions to the researcher and validates the retrieved relevant information from the website's data.\",  # Add the goal here\n",
    "    backstory=\"You are a helpful AI assistant boss and your job is to make sure the retrieved information is correct. Use your 'Website_Search' tool to find relevant documents when answering questions.\"\n",
    ")"
   ]
  },
  {
   "cell_type": "code",
   "execution_count": null,
   "metadata": {},
   "outputs": [],
   "source": [
    "research_task = Task(\n",
    "    description=(\n",
    "        \"Analyze the URL provided ({crewai_url}) \"\n",
    "        \"to extract information about how crewai works. \"\n",
    "        \"required. Use the tools to gather content and identify \"\n",
    "        \"and categorize the requirements.\"\n",
    "    ),\n",
    "    expected_output=(\n",
    "        \"A structured list of crewai specifications, including necessary \"\n",
    "        \"tools to get started\"\n",
    "    ),\n",
    "    agent=researcher,\n",
    "    async_execution=True\n",
    ")\n",
    "\n",
    "boss_task = Task(\n",
    "    description=(\n",
    "        \"Analyze the URL provided ({crewai_url}) \"\n",
    "        \"to extract information about how crewai works. \"\n",
    "        \"required. Use the tools to gather content and identify \"\n",
    "        \"and categorize the requirements.\"\n",
    "    ),\n",
    "    expected_output=(\n",
    "        \"A structured list of crewai specifications, including necessary \"\n",
    "        \"tools to get started\"\n",
    "    ),\n",
    "    agent=researcher_boss,\n",
    "    async_execution=True\n",
    ")"
   ]
  },
  {
   "cell_type": "code",
   "execution_count": null,
   "metadata": {},
   "outputs": [],
   "source": [
    "# Create Crew\n",
    "research_crew1 = Crew(\n",
    "    agents=[researcher, researcher_boss],\n",
    "    tasks=[research_task, boss_task],\n",
    "    verbose=True  # This will print logs to the console as the crew works\n",
    ")\n",
    "\n",
    "# Job Context\n",
    "job_crew_works = {\n",
    "    'crewai_url': 'https://docs.crewai.com/how-to/Installing-CrewAI/',\n",
    "    'personal_writeup': \"\"\"Accomplished Researcher \n",
    "    with 18 years of experience, specializing in\n",
    "    setting up CrewAI kind of agent based systems\"\"\"\n",
    "}\n",
    "\n",
    "# Kickoff the Crew's Work\n",
    "result = research_crew1.kickoff(inputs=job_crew_works)\n",
    "print(result)"
   ]
  }
 ],
 "metadata": {
  "kernelspec": {
   "display_name": ".venv",
   "language": "python",
   "name": "python3"
  },
  "language_info": {
   "name": "python",
   "version": "3.12.7"
  }
 },
 "nbformat": 4,
 "nbformat_minor": 2
}
